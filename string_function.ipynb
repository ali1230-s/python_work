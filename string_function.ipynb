{
 "cells": [
  {
   "cell_type": "markdown",
   "metadata": {},
   "source": [
    "#print predefined function of strings"
   ]
  },
  {
   "cell_type": "code",
   "execution_count": 1,
   "metadata": {},
   "outputs": [
    {
     "name": "stdout",
     "output_type": "stream",
     "text": [
      "my name is maaz ali\n"
     ]
    }
   ],
   "source": [
    "print (\"my name is maaz ali\")"
   ]
  },
  {
   "cell_type": "code",
   "execution_count": 2,
   "metadata": {},
   "outputs": [
    {
     "name": "stdout",
     "output_type": "stream",
     "text": [
      "My name is maaz ali\n"
     ]
    }
   ],
   "source": [
    "intro = \"my name is maaz ali\"\n",
    "x = intro.capitalize()\n",
    "print (x)"
   ]
  },
  {
   "cell_type": "code",
   "execution_count": 3,
   "metadata": {},
   "outputs": [
    {
     "name": "stdout",
     "output_type": "stream",
     "text": [
      "student of piaic bahria university\n"
     ]
    }
   ],
   "source": [
    "std = \"STUDENT OF PIAIC BAHRIA UNIVERSITY\"\n",
    "y = std.casefold()\n",
    "print(y)"
   ]
  },
  {
   "cell_type": "code",
   "execution_count": 4,
   "metadata": {},
   "outputs": [
    {
     "name": "stdout",
     "output_type": "stream",
     "text": [
      "2\n"
     ]
    }
   ],
   "source": [
    "title = \"welcome to pakistan.pakistan is very beaytiful\"\n",
    "a = title.count(\"pakistan\")\n",
    "print(a)"
   ]
  },
  {
   "cell_type": "code",
   "execution_count": 5,
   "metadata": {},
   "outputs": [
    {
     "name": "stdout",
     "output_type": "stream",
     "text": [
      "b'i am good player of cricket\\nmy higest score is hundered'\n"
     ]
    }
   ],
   "source": [
    "game = \"\"\"i am good player of cricket\n",
    "my higest score is hundered\"\"\"\n",
    "m = game.encode()\n",
    "print(m)"
   ]
  },
  {
   "cell_type": "code",
   "execution_count": 6,
   "metadata": {},
   "outputs": [
    {
     "name": "stdout",
     "output_type": "stream",
     "text": [
      "True\n"
     ]
    }
   ],
   "source": [
    "txt = \"i love pakistan\"\n",
    "s = txt.endswith(\"n\")\n",
    "print(s)"
   ]
  },
  {
   "cell_type": "code",
   "execution_count": 7,
   "metadata": {},
   "outputs": [
    {
     "name": "stdout",
     "output_type": "stream",
     "text": [
      "maaz ali\n"
     ]
    }
   ],
   "source": [
    "name = \"maaz ali\"\n",
    "c = name.expandtabs()\n",
    "print (c)"
   ]
  },
  {
   "cell_type": "code",
   "execution_count": 8,
   "metadata": {},
   "outputs": [
    {
     "name": "stdout",
     "output_type": "stream",
     "text": [
      "22\n"
     ]
    }
   ],
   "source": [
    "ball = (\"tennis ball is better than hardball\")\n",
    "k = ball.find(\"than\")\n",
    "print (k)"
   ]
  },
  {
   "cell_type": "code",
   "execution_count": 9,
   "metadata": {},
   "outputs": [
    {
     "name": "stdout",
     "output_type": "stream",
     "text": [
      "my weight is 65kg\n"
     ]
    }
   ],
   "source": [
    "print(\"my weight is {}{}\".format(65,\"kg\"))"
   ]
  },
  {
   "cell_type": "code",
   "execution_count": 10,
   "metadata": {},
   "outputs": [
    {
     "name": "stdout",
     "output_type": "stream",
     "text": [
      "5\n"
     ]
    }
   ],
   "source": [
    "a = 0,1,2,3,4,10,6,7\n",
    "print((a).index(10))"
   ]
  },
  {
   "cell_type": "code",
   "execution_count": 11,
   "metadata": {},
   "outputs": [
    {
     "name": "stdout",
     "output_type": "stream",
     "text": [
      "True\n"
     ]
    }
   ],
   "source": [
    "company = \"telenor12\"\n",
    "d = company.isalnum()\n",
    "print (d)"
   ]
  },
  {
   "cell_type": "code",
   "execution_count": 12,
   "metadata": {},
   "outputs": [
    {
     "name": "stdout",
     "output_type": "stream",
     "text": [
      "True\n"
     ]
    }
   ],
   "source": [
    "dish = \"biryani\"\n",
    "g = dish.isalpha()\n",
    "print (g)"
   ]
  },
  {
   "cell_type": "code",
   "execution_count": 13,
   "metadata": {},
   "outputs": [
    {
     "name": "stdout",
     "output_type": "stream",
     "text": [
      "False\n"
     ]
    }
   ],
   "source": [
    "num = \"pa\" \n",
    "o = num.isdecimal()\n",
    "print(o)"
   ]
  },
  {
   "cell_type": "code",
   "execution_count": 14,
   "metadata": {},
   "outputs": [
    {
     "name": "stdout",
     "output_type": "stream",
     "text": [
      "True\n"
     ]
    }
   ],
   "source": [
    "total_num = \"0307571\"\n",
    "t = total_num\n",
    "print (t.isdigit())"
   ]
  },
  {
   "cell_type": "code",
   "execution_count": 15,
   "metadata": {},
   "outputs": [
    {
     "name": "stdout",
     "output_type": "stream",
     "text": [
      "True\n"
     ]
    }
   ],
   "source": [
    "txt = \"choclate\"\n",
    "e = txt\n",
    "print (e.isidentifier())"
   ]
  },
  {
   "cell_type": "code",
   "execution_count": 16,
   "metadata": {},
   "outputs": [
    {
     "name": "stdout",
     "output_type": "stream",
     "text": [
      "True\n"
     ]
    }
   ],
   "source": [
    "message = \"pick up the glass\"\n",
    "m = message\n",
    "print(m.islower())"
   ]
  },
  {
   "cell_type": "code",
   "execution_count": 17,
   "metadata": {},
   "outputs": [
    {
     "name": "stdout",
     "output_type": "stream",
     "text": [
      "True\n"
     ]
    }
   ],
   "source": [
    "digits = \"123456789\"\n",
    "s = digits.isnumeric()\n",
    "print (s)"
   ]
  },
  {
   "cell_type": "code",
   "execution_count": 18,
   "metadata": {},
   "outputs": [
    {
     "name": "stdout",
     "output_type": "stream",
     "text": [
      "True\n"
     ]
    }
   ],
   "source": [
    "alert = \"you won!12\"\n",
    "q = alert.isprintable()\n",
    "print(q)"
   ]
  },
  {
   "cell_type": "code",
   "execution_count": 19,
   "metadata": {},
   "outputs": [
    {
     "name": "stdout",
     "output_type": "stream",
     "text": [
      "True\n"
     ]
    }
   ],
   "source": [
    "txt = \"      \"\n",
    "u = txt.isspace()\n",
    "print (u)"
   ]
  },
  {
   "cell_type": "code",
   "execution_count": 20,
   "metadata": {},
   "outputs": [
    {
     "name": "stdout",
     "output_type": "stream",
     "text": [
      "True\n"
     ]
    }
   ],
   "source": [
    "title = \"Weather Is Cold Today\"\n",
    "t = title.istitle()\n",
    "print(t)"
   ]
  },
  {
   "cell_type": "code",
   "execution_count": 21,
   "metadata": {},
   "outputs": [
    {
     "name": "stdout",
     "output_type": "stream",
     "text": [
      "True\n"
     ]
    }
   ],
   "source": [
    "new_txt = \"RAWALPINDI IS BIG CITY\"\n",
    "k = new_txt.isupper()\n",
    "print (k)"
   ]
  },
  {
   "cell_type": "code",
   "execution_count": 22,
   "metadata": {},
   "outputs": [
    {
     "name": "stdout",
     "output_type": "stream",
     "text": [
      "liaqat#waji#ali#bila\n"
     ]
    }
   ],
   "source": [
    "names = \"liaqat\",\"waji\",\"ali\",\"bila\"\n",
    "n = \"#\".join(names)\n",
    "print (n)"
   ]
  },
  {
   "cell_type": "code",
   "execution_count": 23,
   "metadata": {},
   "outputs": [
    {
     "name": "stdout",
     "output_type": "stream",
     "text": [
      "mango                          is my favourite food\n"
     ]
    }
   ],
   "source": [
    "fruit = \"mango\"\n",
    "c = fruit. ljust(30)\n",
    "print (c, \"is my favourite food\")"
   ]
  },
  {
   "cell_type": "code",
   "execution_count": 24,
   "metadata": {},
   "outputs": [
    {
     "name": "stdout",
     "output_type": "stream",
     "text": [
      "pick up the chair\n"
     ]
    }
   ],
   "source": [
    "message = \"PICK UP THE CHAIR\"\n",
    "m = message.lower()\n",
    "print (m)"
   ]
  },
  {
   "cell_type": "code",
   "execution_count": 25,
   "metadata": {},
   "outputs": [
    {
     "name": "stdout",
     "output_type": "stream",
     "text": [
      "of all the vegetable carrot   is my favourite\n"
     ]
    }
   ],
   "source": [
    "vegetable = \"   carrot  \"\n",
    "v = vegetable.lstrip()\n",
    "print (\"of all the vegetable\", v,\"is my favourite\")"
   ]
  },
  {
   "cell_type": "code",
   "execution_count": 26,
   "metadata": {},
   "outputs": [
    {
     "name": "stdout",
     "output_type": "stream",
     "text": [
      "('i could eat  ', 'oranges', ' all day')\n"
     ]
    }
   ],
   "source": [
    "txt = \"i could eat  oranges all day\"\n",
    "t = txt.partition(\"oranges\")\n",
    "print(t)"
   ]
  },
  {
   "cell_type": "code",
   "execution_count": 27,
   "metadata": {},
   "outputs": [
    {
     "name": "stdout",
     "output_type": "stream",
     "text": [
      "i like football\n"
     ]
    }
   ],
   "source": [
    "game = \"i like cricket\"\n",
    "g = game.replace(\"cricket\",\"football\")\n",
    "print (g)"
   ]
  },
  {
   "cell_type": "code",
   "execution_count": 28,
   "metadata": {},
   "outputs": [
    {
     "name": "stdout",
     "output_type": "stream",
     "text": [
      "9\n"
     ]
    }
   ],
   "source": [
    "car = \"mercedes,bmw\"\n",
    "c = car.rfind(\"bmw\")\n",
    "print(c)"
   ]
  },
  {
   "cell_type": "code",
   "execution_count": 29,
   "metadata": {},
   "outputs": [
    {
     "name": "stdout",
     "output_type": "stream",
     "text": [
      "8\n"
     ]
    }
   ],
   "source": [
    "bike = \"honda , yahmaah\"\n",
    "b = bike.rindex(\"yahmaah\")\n",
    "print (b)"
   ]
  },
  {
   "cell_type": "code",
   "execution_count": 30,
   "metadata": {},
   "outputs": [
    {
     "name": "stdout",
     "output_type": "stream",
     "text": [
      "                                 samsung is my favourite mobile\n"
     ]
    }
   ],
   "source": [
    "mobile = \"samsung\"\n",
    "m = mobile.rjust(40)\n",
    "print (m,\"is my favourite mobile\")"
   ]
  },
  {
   "cell_type": "code",
   "execution_count": 31,
   "metadata": {},
   "outputs": [
    {
     "name": "stdout",
     "output_type": "stream",
     "text": [
      "('i could eat mangoes all day,', 'mangoes', ' are my favourite fruit.')\n"
     ]
    }
   ],
   "source": [
    "txt = \"i could eat mangoes all day,mangoes are my favourite fruit.\"\n",
    "t = txt.rpartition(\"mangoes\")\n",
    "print (t)"
   ]
  },
  {
   "cell_type": "code",
   "execution_count": 32,
   "metadata": {},
   "outputs": [
    {
     "name": "stdout",
     "output_type": "stream",
     "text": [
      "['ali', 'maaz ,bilal']\n"
     ]
    }
   ],
   "source": [
    "name = \"ali , maaz ,bilal\"\n",
    "n = name.rsplit(\" , \")\n",
    "print(n)"
   ]
  },
  {
   "cell_type": "code",
   "execution_count": 33,
   "metadata": {},
   "outputs": [
    {
     "name": "stdout",
     "output_type": "stream",
     "text": [
      "of all fruits      oranges is my favourite\n"
     ]
    }
   ],
   "source": [
    "txt = \"     oranges     \"\n",
    "t = txt.rstrip()\n",
    "print (\"of all fruits\", t,\"is my favourite\")"
   ]
  },
  {
   "cell_type": "code",
   "execution_count": 34,
   "metadata": {},
   "outputs": [
    {
     "name": "stdout",
     "output_type": "stream",
     "text": [
      "['welcome', 'to', 'pakistan']\n"
     ]
    }
   ],
   "source": [
    "txt = \"welcome to pakistan\"\n",
    "z = txt.split()\n",
    "print(z)"
   ]
  },
  {
   "cell_type": "code",
   "execution_count": 35,
   "metadata": {},
   "outputs": [
    {
     "name": "stdout",
     "output_type": "stream",
     "text": [
      "['pick up the call/n and make the call']\n"
     ]
    }
   ],
   "source": [
    "call = \"pick up the call/n and make the call\"\n",
    "c = call.splitlines()\n",
    "print (c)"
   ]
  },
  {
   "cell_type": "code",
   "execution_count": 36,
   "metadata": {},
   "outputs": [
    {
     "name": "stdout",
     "output_type": "stream",
     "text": [
      "True\n"
     ]
    }
   ],
   "source": [
    "txt = \"hello,welcome to my home\"\n",
    "t = txt.startswith(\"hello\")\n",
    "print(t)"
   ]
  },
  {
   "cell_type": "code",
   "execution_count": 37,
   "metadata": {},
   "outputs": [
    {
     "name": "stdout",
     "output_type": "stream",
     "text": [
      "welcome to pakistan\n"
     ]
    }
   ],
   "source": [
    "txt = \"     welcome to pakistan     \"\n",
    "t = txt.strip()\n",
    "print(t)"
   ]
  },
  {
   "cell_type": "code",
   "execution_count": 38,
   "metadata": {},
   "outputs": [
    {
     "name": "stdout",
     "output_type": "stream",
     "text": [
      "come TO Me\n"
     ]
    }
   ],
   "source": [
    "line = \"COME to mE\"\n",
    "l =line.swapcase()\n",
    "print(l)"
   ]
  },
  {
   "cell_type": "code",
   "execution_count": 39,
   "metadata": {},
   "outputs": [
    {
     "name": "stdout",
     "output_type": "stream",
     "text": [
      "Where Are You Going\n"
     ]
    }
   ],
   "source": [
    "txt = \"where are you going\"\n",
    "t = txt.title()\n",
    "print (t)"
   ]
  },
  {
   "cell_type": "code",
   "execution_count": 40,
   "metadata": {},
   "outputs": [
    {
     "name": "stdout",
     "output_type": "stream",
     "text": [
      "0000000030\n"
     ]
    }
   ],
   "source": [
    "word = \"30\"\n",
    "w = word.zfill(10)\n",
    "print(w)"
   ]
  },
  {
   "cell_type": "code",
   "execution_count": null,
   "metadata": {},
   "outputs": [],
   "source": []
  }
 ],
 "metadata": {
  "kernelspec": {
   "display_name": "Python 3",
   "language": "python",
   "name": "python3"
  },
  "language_info": {
   "codemirror_mode": {
    "name": "ipython",
    "version": 3
   },
   "file_extension": ".py",
   "mimetype": "text/x-python",
   "name": "python",
   "nbconvert_exporter": "python",
   "pygments_lexer": "ipython3",
   "version": "3.7.4"
  }
 },
 "nbformat": 4,
 "nbformat_minor": 2
}
